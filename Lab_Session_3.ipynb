{
  "nbformat": 4,
  "nbformat_minor": 0,
  "metadata": {
    "colab": {
      "name": "Lab Session 3.ipynb",
      "provenance": [],
      "collapsed_sections": [],
      "authorship_tag": "ABX9TyN/oVi9LDQvAcI+d5dNBg07",
      "include_colab_link": true
    },
    "kernelspec": {
      "name": "python3",
      "display_name": "Python 3"
    }
  },
  "cells": [
    {
      "cell_type": "markdown",
      "metadata": {
        "id": "view-in-github",
        "colab_type": "text"
      },
      "source": [
        "<a href=\"https://colab.research.google.com/github/zarin-tasnim2350/AI-Assignments/blob/main/Lab_Session_3.ipynb\" target=\"_parent\"><img src=\"https://colab.research.google.com/assets/colab-badge.svg\" alt=\"Open In Colab\"/></a>"
      ]
    },
    {
      "cell_type": "code",
      "metadata": {
        "colab": {
          "base_uri": "https://localhost:8080/"
        },
        "id": "ZdkrOJJRKOuO",
        "outputId": "c3d4d067-93ba-48f0-8ad4-7fd3f30369e7"
      },
      "source": [
        "#built-in functions\r\n",
        "\r\n",
        "print(\"Hi, I am semi-colon. Do you miss me?\")\r\n",
        "print(\"Let me know if you miss me or not. \")\r\n",
        "s=input()\r\n",
        "\r\n",
        "a=10\r\n",
        "b=21\r\n",
        "print(max(a,b))\r\n",
        "print(min(a,b))\r\n",
        "\r\n",
        "c=10.4\r\n",
        "d=int(c)\r\n",
        "print(d)\r\n",
        "\r\n",
        "e=\"python\"\r\n",
        "print(type(e))"
      ],
      "execution_count": 1,
      "outputs": [
        {
          "output_type": "stream",
          "text": [
            "Hi, I am semi-colon. Do you miss me?\n",
            "Let me know if you miss me or not. \n",
            "no\n",
            "21\n",
            "10\n",
            "10\n",
            "<class 'str'>\n"
          ],
          "name": "stdout"
        }
      ]
    },
    {
      "cell_type": "code",
      "metadata": {
        "colab": {
          "base_uri": "https://localhost:8080/"
        },
        "id": "wJYDI444Kkph",
        "outputId": "8126f860-a180-418b-a2a3-95a262db2b2f"
      },
      "source": [
        "#user defined function\r\n",
        "\r\n",
        "def add(a, b):\r\n",
        "    c=a+b\r\n",
        "    return c\r\n",
        "\r\n",
        "a=int(input(\"Enter a number: \"))\r\n",
        "b=int(input(\"Enter a number: \"))\r\n",
        "d=add(a,b)\r\n",
        "print(\"The sum is\", d)"
      ],
      "execution_count": 2,
      "outputs": [
        {
          "output_type": "stream",
          "text": [
            "Enter a number: 10\n",
            "Enter a number: 15\n",
            "The sum is 25\n"
          ],
          "name": "stdout"
        }
      ]
    },
    {
      "cell_type": "code",
      "metadata": {
        "colab": {
          "base_uri": "https://localhost:8080/"
        },
        "id": "Blq7p3RdKsqQ",
        "outputId": "f0434897-4788-4f4b-f8eb-830bde827743"
      },
      "source": [
        "#function with multiple parameters\r\n",
        "\r\n",
        "def divisor(x,y,m):\r\n",
        "    if x%m==0 and y%m==0:\r\n",
        "        print(\"%d & %d are divisible by %d\"%(x,y,m))\r\n",
        "    elif x%m==0:\r\n",
        "        print(\"only %d is divisible by %d\"%(x,m))\r\n",
        "    elif y%m==0:\r\n",
        "        print(\"only %d is divisible by %d\"%(y,m))\r\n",
        "    else:\r\n",
        "        print(\"none of %d & %d is divisible by %d\"%(x,y,d))\r\n",
        "\r\n",
        "divisor(10,20,5)\r\n",
        "divisor(12,20,5)\r\n",
        "divisor(10,22,5)\r\n",
        "divisor(2,5,3)"
      ],
      "execution_count": 3,
      "outputs": [
        {
          "output_type": "stream",
          "text": [
            "10 & 20 are divisible by 5\n",
            "only 20 is divisible by 5\n",
            "only 10 is divisible by 5\n",
            "none of 2 & 5 is divisible by 25\n"
          ],
          "name": "stdout"
        }
      ]
    },
    {
      "cell_type": "code",
      "metadata": {
        "colab": {
          "base_uri": "https://localhost:8080/"
        },
        "id": "PCG_2X1fLOUL",
        "outputId": "e372be5d-fd67-4bd6-ddf2-2afc30b6bc69"
      },
      "source": [
        "#function without parameter\r\n",
        "\r\n",
        "def summation():\r\n",
        "    a=3+8\r\n",
        "    return a\r\n",
        "\r\n",
        "b=summation()\r\n",
        "print(b)"
      ],
      "execution_count": 4,
      "outputs": [
        {
          "output_type": "stream",
          "text": [
            "11\n"
          ],
          "name": "stdout"
        }
      ]
    },
    {
      "cell_type": "code",
      "metadata": {
        "colab": {
          "base_uri": "https://localhost:8080/"
        },
        "id": "_hSlOaKrLR5H",
        "outputId": "2fb161ba-87df-42ab-e5d7-da9330d9d45d"
      },
      "source": [
        "#function with default parameter value\r\n",
        "\r\n",
        "def check(a=0):\r\n",
        "    if a==0:\r\n",
        "        print(\"Zero\")\r\n",
        "    elif a>0:\r\n",
        "        print(\"Positive\")\r\n",
        "    else:\r\n",
        "        print(\"Negative\")\r\n",
        "\r\n",
        "check()     #without parameter\r\n",
        "check(-4)   #with parameter"
      ],
      "execution_count": 5,
      "outputs": [
        {
          "output_type": "stream",
          "text": [
            "Zero\n",
            "Negative\n"
          ],
          "name": "stdout"
        }
      ]
    },
    {
      "cell_type": "code",
      "metadata": {
        "id": "-YyWQPYfLvdp"
      },
      "source": [
        "#local scope\r\n",
        "\r\n",
        "def local_scope():\r\n",
        "    x=7\r\n",
        "    print(x)\r\n",
        "\r\n",
        "a=local_scope()\r\n",
        "print(a)\r\n"
      ],
      "execution_count": null,
      "outputs": []
    },
    {
      "cell_type": "code",
      "metadata": {
        "id": "c5m22ywZLwc6"
      },
      "source": [
        "#local scope\r\n",
        "\r\n",
        "def local_scope():\r\n",
        "    x=7\r\n",
        "    return x\r\n",
        "\r\n",
        "a=local_scope()\r\n",
        "print(a)\r\n",
        "print(x)"
      ],
      "execution_count": null,
      "outputs": []
    },
    {
      "cell_type": "code",
      "metadata": {
        "colab": {
          "base_uri": "https://localhost:8080/"
        },
        "id": "915wkCxdL0X7",
        "outputId": "0fc28cc6-ba03-4b1f-80ad-79b922565e15"
      },
      "source": [
        "#global scope\r\n",
        "\r\n",
        "x=10\r\n",
        "\r\n",
        "def global_scope():\r\n",
        "    print(x)\r\n",
        "\r\n",
        "print(x)\r\n",
        "global_scope()"
      ],
      "execution_count": 6,
      "outputs": [
        {
          "output_type": "stream",
          "text": [
            "10\n",
            "10\n"
          ],
          "name": "stdout"
        }
      ]
    },
    {
      "cell_type": "code",
      "metadata": {
        "colab": {
          "base_uri": "https://localhost:8080/"
        },
        "id": "js9J84L3MHK-",
        "outputId": "70684806-8efb-47b3-cbe5-0c36436d0fc2"
      },
      "source": [
        "#global scope\r\n",
        "\r\n",
        "def global_scope():\r\n",
        "    global x\r\n",
        "    x=10\r\n",
        "\r\n",
        "global_scope()\r\n",
        "print(x)"
      ],
      "execution_count": 7,
      "outputs": [
        {
          "output_type": "stream",
          "text": [
            "10\n"
          ],
          "name": "stdout"
        }
      ]
    },
    {
      "cell_type": "code",
      "metadata": {
        "colab": {
          "base_uri": "https://localhost:8080/",
          "height": 249
        },
        "id": "EcQePon8MU2P",
        "outputId": "29e858cb-1648-4a5a-e5b3-8897bfac5031"
      },
      "source": [
        "#python standard library\r\n",
        "#csv module\r\n",
        "\r\n",
        "import csv\r\n",
        "\r\n",
        "with open('test.csv', newline='') as csvfile:\r\n",
        "    tmp = csv.reader(csvfile, delimiter=' ', quotechar='|')\r\n",
        "    for row in tmp:\r\n",
        "        print(', '.join(row))"
      ],
      "execution_count": 10,
      "outputs": [
        {
          "output_type": "error",
          "ename": "FileNotFoundError",
          "evalue": "ignored",
          "traceback": [
            "\u001b[0;31m---------------------------------------------------------------------------\u001b[0m",
            "\u001b[0;31mFileNotFoundError\u001b[0m                         Traceback (most recent call last)",
            "\u001b[0;32m<ipython-input-10-123527713610>\u001b[0m in \u001b[0;36m<module>\u001b[0;34m()\u001b[0m\n\u001b[1;32m      4\u001b[0m \u001b[0;32mimport\u001b[0m \u001b[0mcsv\u001b[0m\u001b[0;34m\u001b[0m\u001b[0;34m\u001b[0m\u001b[0m\n\u001b[1;32m      5\u001b[0m \u001b[0;34m\u001b[0m\u001b[0m\n\u001b[0;32m----> 6\u001b[0;31m \u001b[0;32mwith\u001b[0m \u001b[0mopen\u001b[0m\u001b[0;34m(\u001b[0m\u001b[0;34m'test.csv'\u001b[0m\u001b[0;34m,\u001b[0m \u001b[0mnewline\u001b[0m\u001b[0;34m=\u001b[0m\u001b[0;34m''\u001b[0m\u001b[0;34m)\u001b[0m \u001b[0;32mas\u001b[0m \u001b[0mcsvfile\u001b[0m\u001b[0;34m:\u001b[0m\u001b[0;34m\u001b[0m\u001b[0;34m\u001b[0m\u001b[0m\n\u001b[0m\u001b[1;32m      7\u001b[0m     \u001b[0mtmp\u001b[0m \u001b[0;34m=\u001b[0m \u001b[0mcsv\u001b[0m\u001b[0;34m.\u001b[0m\u001b[0mreader\u001b[0m\u001b[0;34m(\u001b[0m\u001b[0mcsvfile\u001b[0m\u001b[0;34m,\u001b[0m \u001b[0mdelimiter\u001b[0m\u001b[0;34m=\u001b[0m\u001b[0;34m' '\u001b[0m\u001b[0;34m,\u001b[0m \u001b[0mquotechar\u001b[0m\u001b[0;34m=\u001b[0m\u001b[0;34m'|'\u001b[0m\u001b[0;34m)\u001b[0m\u001b[0;34m\u001b[0m\u001b[0;34m\u001b[0m\u001b[0m\n\u001b[1;32m      8\u001b[0m     \u001b[0;32mfor\u001b[0m \u001b[0mrow\u001b[0m \u001b[0;32min\u001b[0m \u001b[0mtmp\u001b[0m\u001b[0;34m:\u001b[0m\u001b[0;34m\u001b[0m\u001b[0;34m\u001b[0m\u001b[0m\n",
            "\u001b[0;31mFileNotFoundError\u001b[0m: [Errno 2] No such file or directory: 'test.csv'"
          ]
        }
      ]
    },
    {
      "cell_type": "code",
      "metadata": {
        "colab": {
          "base_uri": "https://localhost:8080/"
        },
        "id": "6Z2zj6RYMf0X",
        "outputId": "7ae677ee-e99c-4d5e-c1c2-f24132156d68"
      },
      "source": [
        "#python standard library\r\n",
        "#math module\r\n",
        "\r\n",
        "import math\r\n",
        "\r\n",
        "print(math.pi)          #value of pi\r\n",
        "\r\n",
        "x=9.2\r\n",
        "print(math.ceil(x))     #round to the smallest integer not less than x\r\n",
        "print(math.floor(x))    #rount to the largest integer not greater than x\r\n",
        "\r\n",
        "print(math.sin(78))     #trigonometric sine of x (x in radians)\r\n",
        "\r\n",
        "print(math.pow(2,3))    #2 to the power 3\r\n",
        "\r\n",
        "print(math.sqrt(16))    #square root of 16"
      ],
      "execution_count": 11,
      "outputs": [
        {
          "output_type": "stream",
          "text": [
            "3.141592653589793\n",
            "10\n",
            "9\n",
            "0.5139784559875352\n",
            "8.0\n",
            "4.0\n"
          ],
          "name": "stdout"
        }
      ]
    }
  ]
}