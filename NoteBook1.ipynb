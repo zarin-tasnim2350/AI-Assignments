{
  "nbformat": 4,
  "nbformat_minor": 0,
  "metadata": {
    "colab": {
      "name": "NoteBook1.ipynb",
      "provenance": [],
      "authorship_tag": "ABX9TyMg63Fd5cyI0P8Um4nIrENN",
      "include_colab_link": true
    },
    "kernelspec": {
      "name": "python3",
      "display_name": "Python 3"
    }
  },
  "cells": [
    {
      "cell_type": "markdown",
      "metadata": {
        "id": "view-in-github",
        "colab_type": "text"
      },
      "source": [
        "<a href=\"https://colab.research.google.com/github/zarin-tasnim2350/AI-Assignments/blob/main/NoteBook1.ipynb\" target=\"_parent\"><img src=\"https://colab.research.google.com/assets/colab-badge.svg\" alt=\"Open In Colab\"/></a>"
      ]
    },
    {
      "cell_type": "markdown",
      "metadata": {
        "id": "XAzY_StC9-Gj"
      },
      "source": [
        "#**My Python First Program \" Print Hello World\"**"
      ]
    },
    {
      "cell_type": "code",
      "metadata": {
        "colab": {
          "base_uri": "https://localhost:8080/"
        },
        "id": "qq7zPftD-c__",
        "outputId": "2876b076-f01b-439d-eda4-2b578378e2fd"
      },
      "source": [
        "print(\"Hello World\")"
      ],
      "execution_count": 1,
      "outputs": [
        {
          "output_type": "stream",
          "text": [
            "Hello World\n"
          ],
          "name": "stdout"
        }
      ]
    }
  ]
}